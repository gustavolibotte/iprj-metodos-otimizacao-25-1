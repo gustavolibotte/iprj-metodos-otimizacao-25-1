{
 "cells": [
  {
   "cell_type": "code",
   "execution_count": 35,
   "metadata": {},
   "outputs": [],
   "source": [
    "import matplotlib.pyplot as plt\n",
    "import numpy as np"
   ]
  },
  {
   "cell_type": "code",
   "execution_count": 36,
   "metadata": {},
   "outputs": [],
   "source": [
    "class Problema:\n",
    "    @staticmethod\n",
    "    def f(x):\n",
    "        return 2 * np.sin(x) - (x**2 / 10)\n",
    "\n",
    "class DerivadaNumerica:\n",
    "    def __init__(self, h):\n",
    "        self.h = h\n",
    "    \n",
    "    def df(self, x):\n",
    "        return (Problema.f(x + self.h) - Problema.f(x)) / self.h\n",
    "\n",
    "class Plot:\n",
    "    def __init__(self, largura, altura):\n",
    "        self.fig, self.ax = plt.subplots(figsize=(largura, altura))\n",
    "\n",
    "    def plota_curva(self, X, Y, rotulo_curva):\n",
    "        self.ax.plot(X, Y, label=rotulo_curva)\n",
    "        self.ax.set_xlabel(\"x\")\n",
    "        self.ax.set_ylabel(\"y\")\n",
    "        self.ax.grid(alpha=0.25)\n",
    "        self.ax.legend()\n",
    "\n",
    "class MetodosUnidimIntervalo:\n",
    "    def __init__(self, a, b, tol, n_iter):\n",
    "        self.a = a\n",
    "        self.b = b\n",
    "        self.tol = tol\n",
    "        self.n_iter = n_iter\n",
    "    \n",
    "    def secao_aurea(self):\n",
    "        R = (np.sqrt(5) - 1) / 2\n",
    "\n",
    "        iter = 0\n",
    "        erro = self.tol + 1.0\n",
    "\n",
    "        while erro > self.tol and iter < self.n_iter:\n",
    "            d = R * (self.b - self.a)\n",
    "\n",
    "            x1 = self.a + d\n",
    "            x2 = self.b - d\n",
    "\n",
    "            if Problema.f(x1) > Problema.f(x2):\n",
    "                self.a = x2\n",
    "                x2 = x1\n",
    "                d = R * (self.b - self.a)\n",
    "                x1 = self.a + d\n",
    "            else:\n",
    "                self.b = x1\n",
    "                x1 = x2\n",
    "                d = R * (self.b - self.a)\n",
    "                x2 = self.b - d\n",
    "            \n",
    "            erro = np.abs(self.b - self.a)\n",
    "            iter += 1\n",
    "        return (self.a + self.b) / 2.0\n",
    "    \n",
    "    def busca_bissecao(self):\n",
    "        k = 1\n",
    "        erro = self.tol + 1.0\n",
    "        df_driver = DerivadaNumerica(h=1e-6)\n",
    "        while erro > self.tol and k < self.n_iter:\n",
    "            lambdaa = (self.a + self.b) / 2\n",
    "            if df_driver.df(lambdaa) == 0:\n",
    "                return lambdaa\n",
    "            elif df_driver.df(lambdaa) > 0:\n",
    "                self.b = lambdaa\n",
    "            else:\n",
    "                self.a = lambdaa\n",
    "            erro = np.abs(self.b - self.a)\n",
    "            k += 1\n",
    "        return lambdaa"
   ]
  },
  {
   "cell_type": "code",
   "execution_count": null,
   "metadata": {},
   "outputs": [
    {
     "name": "stdout",
     "output_type": "stream",
     "text": [
      "1.4275517496337753 1.4275517496337753\n"
     ]
    },
    {
     "data": {
      "image/png": "[encoded data removed]",
      "text/plain": [
       "<Figure size 400x250 with 1 Axes>"
      ]
     },
     "metadata": {},
     "output_type": "display_data"
    }
   ],
   "source": [
    "a, b = 0.0, 4.0\n",
    "\n",
    "driver_metodos_unid_int = MetodosUnidimIntervalo(a=a, b=b, tol=1e-6, n_iter=100)\n",
    "sol_sa = driver_metodos_unid_int.secao_aurea()\n",
    "sol_bb = driver_metodos_unid_int.busca_bissecao()\n",
    "\n",
    "# print(sol_sa, sol_bb)\n",
    "\n",
    "X = np.linspace(a, b, 100)\n",
    "Y = Problema.f(X)\n",
    "driver_plot = Plot(largura=4.0, altura=2.5)\n",
    "driver_plot.plota_curva(X, Y, rotulo_curva=\"f(x)\")"
   ]
  }
 ],
 "metadata": {
  "kernelspec": {
   "display_name": "root_env",
   "language": "python",
   "name": "python3"
  },
  "language_info": {
   "codemirror_mode": {
    "name": "ipython",
    "version": 3
   },
   "file_extension": ".py",
   "mimetype": "text/x-python",
   "name": "python",
   "nbconvert_exporter": "python",
   "pygments_lexer": "ipython3",
   "version": "3.13.2"
  }
 },
 "nbformat": 4,
 "nbformat_minor": 2
}
